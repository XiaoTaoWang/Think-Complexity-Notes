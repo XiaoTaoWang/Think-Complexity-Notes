{
 "cells": [
  {
   "cell_type": "markdown",
   "metadata": {},
   "source": [
    "# Connectivity of ER Graphs"
   ]
  },
  {
   "cell_type": "markdown",
   "metadata": {},
   "source": [
    "In the notebook [Graph-basics](http://nbviewer.jupyter.org/github/XiaoTaoWang/Think-Complexity-Notes/blob/master/notebooks/Graph-basics.ipynb), we introduced a classic random graph model named [Erdős–Rényi model](https://en.wikipedia.org/wiki/Erd%C5%91s%E2%80%93R%C3%A9nyi_model), and provided implementations of its two variants. Briefly, G(n,p) is characterized by two parameters, n is the number of nodes and p is the probability that there exists an edge linking any two nodes; G(n,m) also takes two parameters, in which a graph is chosen uniformly at random from the collection of all graphs which have n nodes and m edges.\n",
    "\n",
    "Although closely related, G(n,p) is the more commonly used one in practice.\n",
    "\n",
    "In a 1960 paper, Erdős and Rényi showed several interesting properties of G(n,p). One of their results is the existence of abrupt changes of graph connectivity(a graph is connected if there a path from any node to every other node) when increasing p. They showed that the critical p value is $\\frac{ln(n)}{n}$, that is, ER graph is unlikely to be connected if $p < \\frac{ln(n)}{n}$, but very likely to be connected if $p > \\frac{ln(n)}{n}$. In this notebook, we will try to test this statement computationally."
   ]
  },
  {
   "cell_type": "markdown",
   "metadata": {},
   "source": [
    "## Platform Information"
   ]
  },
  {
   "cell_type": "code",
   "execution_count": 1,
   "metadata": {
    "collapsed": false
   },
   "outputs": [],
   "source": [
    "%load_ext watermark"
   ]
  },
  {
   "cell_type": "code",
   "execution_count": 2,
   "metadata": {
    "collapsed": false
   },
   "outputs": [
    {
     "name": "stdout",
     "output_type": "stream",
     "text": [
      "CPython 2.7.12\n",
      "IPython 5.1.0\n",
      "\n",
      "numpy 1.11.1\n",
      "networkx 1.11\n",
      "matplotlib 1.5.3\n",
      "\n",
      "compiler   : MSC v.1500 64 bit (AMD64)\n",
      "system     : Windows\n",
      "release    : 10\n",
      "machine    : AMD64\n",
      "processor  : Intel64 Family 6 Model 78 Stepping 3, GenuineIntel\n",
      "CPU cores  : 4\n",
      "interpreter: 64bit\n"
     ]
    }
   ],
   "source": [
    "%watermark -m -v -p numpy,networkx,matplotlib"
   ]
  },
  {
   "cell_type": "markdown",
   "metadata": {
    "collapsed": true
   },
   "source": [
    "## Connectivity"
   ]
  },
  {
   "cell_type": "markdown",
   "metadata": {},
   "source": [
    "First of all, we need an algorithm to check whether a graph is connected. There are generally two search algorithms, [*BFS(breadth-first search)*](https://en.wikipedia.org/wiki/Breadth-first_search) and [*DFS(depth-first search)*](https://en.wikipedia.org/wiki/Depth-first_search), for determining whether two nodes in a graph are connected. These algorithms can be modified for our task in following way:\n",
    "- Start with any node, s, in the graph.\n",
    "- Use breadth-first search or depth-first search to count all nodes that can be reached from s.\n",
    "- If the number of nodes counted is equal to the number of nodes in the graph, the graph is connected, otherwise, it is disconnected."
   ]
  },
  {
   "cell_type": "markdown",
   "metadata": {},
   "source": [
    "### Depth-first search"
   ]
  },
  {
   "cell_type": "markdown",
   "metadata": {},
   "source": [
    "Allen provides an implementation of depth-first search in his book, here's the code with some modifications:"
   ]
  },
  {
   "cell_type": "code",
   "execution_count": 3,
   "metadata": {
    "collapsed": true
   },
   "outputs": [],
   "source": [
    "def DFS_nonrecursive(G, s):\n",
    "    seen = set()\n",
    "    stack = [s]\n",
    "    while len(stack):\n",
    "        c = stack.pop()\n",
    "        if not c in seen:\n",
    "            seen.add(c)\n",
    "            stack.extend(G.neighbors(c))\n",
    "    return seen\n",
    "\n",
    "def is_connected(G):\n",
    "    s = next(G.nodes_iter())\n",
    "    reachable = DFS_nonrecursive(G, s)\n",
    "    return len(reachable)==len(G)"
   ]
  },
  {
   "cell_type": "markdown",
   "metadata": {},
   "source": [
    "*DFS_nonrecursive* use depth-first search to start with *s* and find all nodes in the graph reachable from *s*. *is_connected* chooses a starting node and invokes *DFS_nonrecursive*, if the length of *seen* returned by *DFS_nonrecursive* is the same as the size of the graph, that means we can reach all nodes, and then we can declare the graph is connected. Let's check it using a random graph:"
   ]
  },
  {
   "cell_type": "code",
   "execution_count": 4,
   "metadata": {
    "collapsed": true
   },
   "outputs": [],
   "source": [
    "import networkx as nx\n",
    "import matplotlib.pyplot as plt"
   ]
  },
  {
   "cell_type": "code",
   "execution_count": 5,
   "metadata": {
    "collapsed": false
   },
   "outputs": [
    {
     "data": {
      "image/png": "[encoded data removed]",
      "text/plain": [
       "<matplotlib.figure.Figure at 0x908f7b8>"
      ]
     },
     "metadata": {},
     "output_type": "display_data"
    }
   ],
   "source": [
    "G = nx.gnp_random_graph(6, 0.2, seed=1)\n",
    "nx.draw(G, node_color='#FBB4AE', node_size=1000, with_labels=True)\n",
    "plt.show()"
   ]
  },
  {
   "cell_type": "markdown",
   "metadata": {},
   "source": [
    "From node 0, all the other nodes except for node 4 can be reached:"
   ]
  },
  {
   "cell_type": "code",
   "execution_count": 6,
   "metadata": {
    "collapsed": false
   },
   "outputs": [
    {
     "name": "stdout",
     "output_type": "stream",
     "text": [
      "[0, 1, 2, 3, 5]\n"
     ]
    }
   ],
   "source": [
    "seen = DFS_nonrecursive(G, 0)\n",
    "print sorted(seen)"
   ]
  },
  {
   "cell_type": "markdown",
   "metadata": {},
   "source": [
    "And the graph is indeed disconnected."
   ]
  },
  {
   "cell_type": "code",
   "execution_count": 7,
   "metadata": {
    "collapsed": false
   },
   "outputs": [
    {
     "data": {
      "text/plain": [
       "False"
      ]
     },
     "execution_count": 7,
     "metadata": {},
     "output_type": "execute_result"
    }
   ],
   "source": [
    "is_connected(G)"
   ]
  },
  {
   "cell_type": "markdown",
   "metadata": {
    "collapsed": true
   },
   "source": [
    "Why we call this kind of search as \"depth-first\"? Because it explores as far as possible before backtracking. In the view of programming, *DFS_nonrecursive* we defined just now uses a [*stack*](https://en.wikipedia.org/wiki/Stack_%28abstract_data_type%29) and gets the last added node in each loop."
   ]
  },
  {
   "cell_type": "markdown",
   "metadata": {
    "collapsed": true
   },
   "source": [
    "Depth-first search can also be implemented in a quite more natural way using recursive function:"
   ]
  },
  {
   "cell_type": "code",
   "execution_count": 8,
   "metadata": {
    "collapsed": false
   },
   "outputs": [],
   "source": [
    "def DFS_recursive(G, s, seen):\n",
    "    seen.add(s)\n",
    "    for v in G.neighbors(s):\n",
    "        if not v in seen:\n",
    "            DFS_recursive(G, v, seen)\n",
    "    return seen\n",
    "\n",
    "def is_connected(G):\n",
    "    s = next(G.nodes_iter())\n",
    "    reachable = set()\n",
    "    DFS_recursive(G, s, reachable)\n",
    "    return len(reachable)==len(G)"
   ]
  },
  {
   "cell_type": "code",
   "execution_count": 9,
   "metadata": {
    "collapsed": false
   },
   "outputs": [
    {
     "name": "stdout",
     "output_type": "stream",
     "text": [
      "[0, 1, 2, 3, 5]\n"
     ]
    }
   ],
   "source": [
    "seen = set()\n",
    "DFS_recursive(G, 0, seen)\n",
    "print sorted(seen)"
   ]
  },
  {
   "cell_type": "code",
   "execution_count": 10,
   "metadata": {
    "collapsed": false
   },
   "outputs": [
    {
     "data": {
      "text/plain": [
       "False"
      ]
     },
     "execution_count": 10,
     "metadata": {},
     "output_type": "execute_result"
    }
   ],
   "source": [
    "is_connected(G)"
   ]
  },
  {
   "cell_type": "markdown",
   "metadata": {},
   "source": [
    "### Breadth-first search"
   ]
  },
  {
   "cell_type": "markdown",
   "metadata": {},
   "source": [
    "Different from depth-first search, breadth-first search starts at any node, and explores the neighbor nodes first, then the next level neighbors, and so forth. Here's my implementation:"
   ]
  },
  {
   "cell_type": "code",
   "execution_count": 11,
   "metadata": {
    "collapsed": true
   },
   "outputs": [],
   "source": [
    "from collections import deque\n",
    "\n",
    "def BFS_search(G, s):\n",
    "    \n",
    "    Q = deque([s])\n",
    "    seen = set([s])\n",
    "    while len(Q):\n",
    "        c = Q.popleft()\n",
    "        for v in G.neighbors(c):\n",
    "            if not v in seen:\n",
    "                seen.add(v)\n",
    "                Q.append(v)\n",
    "    return seen\n",
    "\n",
    "def is_connected(G):\n",
    "    s = next(G.nodes_iter())\n",
    "    reachable = BFS_search(G, s)\n",
    "    return len(reachable)==len(G)"
   ]
  },
  {
   "cell_type": "markdown",
   "metadata": {},
   "source": [
    "*BFS_search* and *DFS_nonrecursive* are very similar, but check them line by line, you'll find two differences:\n",
    "- *BFS_search* use a *queue* instead of *stack*\n",
    "- It checks whether a node has been added into *seen* before enqueueing the node rather than delaying this check until the node is dequeued from the queue."
   ]
  },
  {
   "cell_type": "code",
   "execution_count": 12,
   "metadata": {
    "collapsed": false
   },
   "outputs": [
    {
     "name": "stdout",
     "output_type": "stream",
     "text": [
      "[0, 1, 2, 3, 5]\n"
     ]
    }
   ],
   "source": [
    "seen = BFS_search(G, 0)\n",
    "print sorted(seen)"
   ]
  },
  {
   "cell_type": "code",
   "execution_count": 13,
   "metadata": {
    "collapsed": false
   },
   "outputs": [
    {
     "data": {
      "text/plain": [
       "False"
      ]
     },
     "execution_count": 13,
     "metadata": {},
     "output_type": "execute_result"
    }
   ],
   "source": [
    "is_connected(G)"
   ]
  },
  {
   "cell_type": "markdown",
   "metadata": {},
   "source": [
    "### Benchmarks"
   ]
  },
  {
   "cell_type": "markdown",
   "metadata": {},
   "source": [
    "In theory, the time complexities for *DFS_nonrecursive*, *DFS_recursive* and *BFS_search* are all in O(n+m), which means the run time grows in proportion to either n or m, whichever is \"bigger\". In this part, I'll check it computationally. Besides those functions we defined above, I will also include *networkx*'s builtin *is_connected* for benchmark."
   ]
  },
  {
   "cell_type": "markdown",
   "metadata": {},
   "source": [
    "To make the comparisons more elegant, let's modify the interface of *is_connected* a little:"
   ]
  },
  {
   "cell_type": "code",
   "execution_count": 14,
   "metadata": {
    "collapsed": true
   },
   "outputs": [],
   "source": [
    "def is_connected(G, core):\n",
    "    s = next(G.nodes_iter())\n",
    "    if core == DFS_recursive:\n",
    "        reachable = set()\n",
    "        DFS_recursive(G, s, reachable)\n",
    "    else:\n",
    "        reachable = BFS_search(G, s)\n",
    "    return len(reachable)==len(G)"
   ]
  },
  {
   "cell_type": "markdown",
   "metadata": {},
   "source": [
    "Generate complete graphs of various orders:"
   ]
  },
  {
   "cell_type": "code",
   "execution_count": 15,
   "metadata": {
    "collapsed": false
   },
   "outputs": [
    {
     "name": "stdout",
     "output_type": "stream",
     "text": [
      "[ 31  37  43  51  61  71  84 100 117 138 163 193 227 268 316]\n"
     ]
    }
   ],
   "source": [
    "import numpy as np\n",
    "orders_n = np.logspace(1.5, 2.5, 15).astype(int)\n",
    "pool = [nx.complete_graph(n) for n in orders_n]\n",
    "print orders_n"
   ]
  },
  {
   "cell_type": "markdown",
   "metadata": {},
   "source": [
    "Since every node links any other node in a complete graph, *is_connected* should run in O($n^2$), and as we have discussed in the last notebook, if we plot t(time) versus n(number of nodes) on a log-log scale, we expect an approximate straight line with slope 2."
   ]
  },
  {
   "cell_type": "markdown",
   "metadata": {},
   "source": [
    "Plot runtime(t) along with the increasing numder of nodes:"
   ]
  },
  {
   "cell_type": "code",
   "execution_count": 16,
   "metadata": {
    "collapsed": true
   },
   "outputs": [],
   "source": [
    "import timeit"
   ]
  },
  {
   "cell_type": "code",
   "execution_count": 17,
   "metadata": {
    "collapsed": false
   },
   "outputs": [],
   "source": [
    "ours = {'DFS_nonrecursive':[], 'DFS_recursive':[], 'BFS_search':[]}\n",
    "nx_t = []\n",
    "for G in pool:\n",
    "    T = timeit.Timer('is_connected(G)', 'from __main__ import G;from networkx import is_connected')\n",
    "    nx_t.append(min(T.repeat(3,10))*1000) # 3 repeats, 10 loops\n",
    "    for f in ours:\n",
    "        T = timeit.Timer('is_connected(G, core=%s)' % f, 'from __main__ import is_connected, G, %s' % f)\n",
    "        ours[f].append(min(T.repeat(3,10))*1000)"
   ]
  },
  {
   "cell_type": "code",
   "execution_count": 18,
   "metadata": {
    "collapsed": false
   },
   "outputs": [
    {
     "data": {
      "image/png": "[encoded data removed]",
      "text/plain": [
       "<matplotlib.figure.Figure at 0x91f94e0>"
      ]
     },
     "metadata": {},
     "output_type": "display_data"
    }
   ],
   "source": [
    "from matplotlib import style\n",
    "style.use('ggplot')\n",
    "import matplotlib.pyplot as plt\n",
    "plt.figure(figsize=(8,6))\n",
    "slope = np.polyfit(np.log10(orders_n), np.log10(nx_t), 1)[0]\n",
    "plt.plot(orders_n, nx_t, alpha=0.5, label='networkx builtin: %.3f' % slope, marker='o', lw=2.5)\n",
    "for f in ours:\n",
    "    slope = np.polyfit(np.log10(orders_n), np.log10(ours[f]), 1)[0]\n",
    "    mode = f + ': %.3f'\n",
    "    plt.plot(orders_n, ours[f], alpha=0.5, label=mode % slope, marker='o', lw=2.5)\n",
    "plt.xlabel('Order of graph n')\n",
    "plt.ylabel('Time in milliseconds [ms]')\n",
    "plt.legend(loc=2)\n",
    "plt.xscale('log')\n",
    "plt.yscale('log')\n",
    "plt.show()"
   ]
  }
 ],
 "metadata": {
  "anaconda-cloud": {},
  "kernelspec": {
   "display_name": "Python [conda root]",
   "language": "python",
   "name": "conda-root-py"
  },
  "language_info": {
   "codemirror_mode": {
    "name": "ipython",
    "version": 2
   },
   "file_extension": ".py",
   "mimetype": "text/x-python",
   "name": "python",
   "nbconvert_exporter": "python",
   "pygments_lexer": "ipython2",
   "version": "2.7.12"
  }
 },
 "nbformat": 4,
 "nbformat_minor": 1
}
