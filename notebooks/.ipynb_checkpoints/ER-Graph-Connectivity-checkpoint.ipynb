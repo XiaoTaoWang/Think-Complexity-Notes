{
 "cells": [
  {
   "cell_type": "markdown",
   "metadata": {},
   "source": [
    "# Connectivity of ER Graphs"
   ]
  },
  {
   "cell_type": "markdown",
   "metadata": {},
   "source": [
    "In the notebook [Graph-basics](http://nbviewer.jupyter.org/github/XiaoTaoWang/Think-Complexity-Notes/blob/master/notebooks/Graph-basics.ipynb), we introduced a classic random graph model named [Erdős–Rényi model](https://en.wikipedia.org/wiki/Erd%C5%91s%E2%80%93R%C3%A9nyi_model), and provided implementations of its two variants. Briefly, G(n,p) is characterized by two parameters, n is the number of nodes and p is the probability that there exists an edge linking any two nodes; G(n,m) also takes two parameters, in which a graph is chosen uniformly at random from the collection of all graphs which have n nodes and m edges.\n",
    "\n",
    "Although closely related, G(n,p) is the more commonly used one in practice.\n",
    "\n",
    "In a 1960 paper, Erdős and Rényi showed several interesting properties of G(n,p). One of their results is the existence of abrupt changes of graph connectivity(a graph is connected if there a path from any node to every other node) when increasing p. They showed that the critical p value is $\\frac{ln(n)}{n}$, that is, ER graph is unlikely to be connected if $p < \\frac{ln(n)}{n}$, but very likely to be connected if $p > \\frac{ln(n)}{n}$. In this notebook, we will try to test this statement computationally."
   ]
  },
  {
   "cell_type": "markdown",
   "metadata": {},
   "source": [
    "## Platform Information"
   ]
  },
  {
   "cell_type": "code",
   "execution_count": 47,
   "metadata": {
    "collapsed": false
   },
   "outputs": [
    {
     "name": "stdout",
     "output_type": "stream",
     "text": [
      "The watermark extension is already loaded. To reload it, use:\n",
      "  %reload_ext watermark\n"
     ]
    }
   ],
   "source": [
    "%load_ext watermark"
   ]
  },
  {
   "cell_type": "code",
   "execution_count": 48,
   "metadata": {
    "collapsed": false
   },
   "outputs": [
    {
     "name": "stdout",
     "output_type": "stream",
     "text": [
      "CPython 2.7.12\n",
      "IPython 5.1.0\n",
      "\n",
      "numpy 1.11.1\n",
      "networkx 1.11\n",
      "matplotlib 1.5.3\n",
      "\n",
      "compiler   : MSC v.1500 64 bit (AMD64)\n",
      "system     : Windows\n",
      "release    : 10\n",
      "machine    : AMD64\n",
      "processor  : Intel64 Family 6 Model 78 Stepping 3, GenuineIntel\n",
      "CPU cores  : 4\n",
      "interpreter: 64bit\n"
     ]
    }
   ],
   "source": [
    "%watermark -m -v -p numpy,networkx,matplotlib"
   ]
  },
  {
   "cell_type": "markdown",
   "metadata": {
    "collapsed": true
   },
   "source": [
    "## Connectivity"
   ]
  },
  {
   "cell_type": "markdown",
   "metadata": {},
   "source": [
    "First of all, we need an algorithm to check whether a graph is connected. There are generally two search algorithms, [*BFS(breadth-first search)*](https://en.wikipedia.org/wiki/Breadth-first_search) and [*DFS(depth-first search)*](https://en.wikipedia.org/wiki/Depth-first_search), for determining whether two nodes in a graph are connected. These algorithms can be modified for our task in following way:"
   ]
  },
  {
   "cell_type": "markdown",
   "metadata": {},
   "source": [
    "- Start with any node, s, in the graph.\n",
    "- Use breadth-first search or depth-first search to count all nodes that can be reached from s.\n",
    "- If the number of nodes counted is equal to the number of nodes in the graph, the graph is connected, otherwise, it is disconnected."
   ]
  },
  {
   "cell_type": "markdown",
   "metadata": {},
   "source": [
    "Allen provides an implementation of depth-first search in his book, here's the code with some modifications:"
   ]
  },
  {
   "cell_type": "code",
   "execution_count": 49,
   "metadata": {
    "collapsed": true
   },
   "outputs": [],
   "source": [
    "def DFS_nonrecursive(G, s):\n",
    "    seen = set()\n",
    "    stack = [s]\n",
    "    while len(stack):\n",
    "        c = stack.pop()\n",
    "        if not c in seen:\n",
    "            seen.add(c)\n",
    "            stack.extend(G.neighbors(c))\n",
    "    return seen"
   ]
  },
  {
   "cell_type": "markdown",
   "metadata": {},
   "source": [
    "Let's check it using a random graph:"
   ]
  },
  {
   "cell_type": "code",
   "execution_count": 50,
   "metadata": {
    "collapsed": true
   },
   "outputs": [],
   "source": [
    "import networkx as nx\n",
    "import matplotlib.pyplot as plt"
   ]
  },
  {
   "cell_type": "code",
   "execution_count": 51,
   "metadata": {
    "collapsed": false
   },
   "outputs": [
    {
     "data": {
      "image/png": "[encoded data removed]",
      "text/plain": [
       "<matplotlib.figure.Figure at 0xa18af98>"
      ]
     },
     "metadata": {},
     "output_type": "display_data"
    }
   ],
   "source": [
    "G = nx.gnp_random_graph(6, 0.2, seed=1)\n",
    "nx.draw(G, node_color='#FBB4AE', node_size=1000, with_labels=True)\n",
    "plt.show()"
   ]
  },
  {
   "cell_type": "markdown",
   "metadata": {},
   "source": [
    "From node 0, all the other nodes except for node 4 can be reached:"
   ]
  },
  {
   "cell_type": "code",
   "execution_count": 52,
   "metadata": {
    "collapsed": false
   },
   "outputs": [
    {
     "name": "stdout",
     "output_type": "stream",
     "text": [
      "[0, 1, 2, 3, 5]\n"
     ]
    }
   ],
   "source": [
    "seen = DFS_nonrecursive(G, 0)\n",
    "print sorted(seen)"
   ]
  },
  {
   "cell_type": "code",
   "execution_count": null,
   "metadata": {
    "collapsed": true
   },
   "outputs": [],
   "source": []
  }
 ],
 "metadata": {
  "anaconda-cloud": {},
  "kernelspec": {
   "display_name": "Python [conda root]",
   "language": "python",
   "name": "conda-root-py"
  },
  "language_info": {
   "codemirror_mode": {
    "name": "ipython",
    "version": 2
   },
   "file_extension": ".py",
   "mimetype": "text/x-python",
   "name": "python",
   "nbconvert_exporter": "python",
   "pygments_lexer": "ipython2",
   "version": "2.7.12"
  }
 },
 "nbformat": 4,
 "nbformat_minor": 1
}
