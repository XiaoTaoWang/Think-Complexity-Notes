{
 "cells": [
  {
   "cell_type": "markdown",
   "metadata": {},
   "source": [
    "# Dijkstra's algorithm"
   ]
  },
  {
   "cell_type": "markdown",
   "metadata": {},
   "source": [
    "Allen only implemented the simplified version of Dijkstra's algorithm for unweighted graphs, in this note, I'll continue to implement the full version and try to improve its performance by using min-priority queue."
   ]
  },
  {
   "cell_type": "code",
   "execution_count": 1,
   "metadata": {
    "collapsed": false
   },
   "outputs": [],
   "source": [
    "%load_ext watermark"
   ]
  },
  {
   "cell_type": "code",
   "execution_count": 2,
   "metadata": {
    "collapsed": false
   },
   "outputs": [
    {
     "name": "stdout",
     "output_type": "stream",
     "text": [
      "CPython 2.7.12\n",
      "IPython 5.1.0\n",
      "\n",
      "numpy 1.11.1\n",
      "networkx 1.11\n",
      "matplotlib 1.5.3\n"
     ]
    }
   ],
   "source": [
    "%watermark -v -p numpy,networkx,matplotlib"
   ]
  },
  {
   "cell_type": "markdown",
   "metadata": {
    "collapsed": true
   },
   "source": [
    "## Sections"
   ]
  },
  {
   "cell_type": "markdown",
   "metadata": {},
   "source": [
    "## Algorithm"
   ]
  },
  {
   "cell_type": "markdown",
   "metadata": {},
   "source": [
    "Similar to the simplified version, the full version also starts at the single source node, suppose *s*, then it works as follows:\n",
    "\n",
    "1. Set every node an initial distance value from source node: 0 for source node and infinity for all the other nodes.\n",
    "2. Set the source node as current, and all other nodes unvisited.\n",
    "3. For current node, extract all its unvisited neighbors and calculate a temporary distance(plus distance assigned to current node and distance between current node and its neighbor) for them, if the temporary distance is smaller than current assigned value, then update the distance of the neighbor to the new one, otherwise keep the current one.\n",
    "4. If all neighbors of current node have been considered, mark the current node as visited.\n",
    "5. If the smallest distance of the remaining unvisited nodes is infinity, stop the algorithm, otherwise, choose the unvisited node with smallest assigned distance, set it as \"new current\", and go back to step 3.\n",
    "\n",
    "You can find elaborate description, nice graphical illustration, and proof of the algorithm on [Wikipedia](https://en.wikipedia.org/wiki/Dijkstra%27s_algorithm)."
   ]
  },
  {
   "cell_type": "markdown",
   "metadata": {},
   "source": [
    "## Straightforward Implementation"
   ]
  },
  {
   "cell_type": "markdown",
   "metadata": {
    "collapsed": true
   },
   "source": [
    "Here's my implementation for Dijkstra's Algorithm:"
   ]
  },
  {
   "cell_type": "code",
   "execution_count": 3,
   "metadata": {
    "collapsed": true
   },
   "outputs": [],
   "source": [
    "def my_Dijkstra(G, s):\n",
    "    \"\"\"\n",
    "    A Python implementation for Dijkstra's algorithm.\n",
    "    \n",
    "    Parameters\n",
    "    ----------\n",
    "    G : NetworkX Graph\n",
    "    \n",
    "    s : source node label\n",
    "    \n",
    "    Returns\n",
    "    -------\n",
    "    path: dict\n",
    "        Paths from the source.\n",
    "    dist: dict\n",
    "        Distances from source node to any other nodes in the graph.\n",
    "    \"\"\"\n",
    "    # Keys are node labels, values are distances from the source to the corresponding\n",
    "    # nodes, which will be updated during the algorithm.\n",
    "    dist = {}\n",
    "    # Keys are node labels, values are previous node in the shortest path from source\n",
    "    prev = {}\n",
    "    \n",
    "    Q = set(G) # Unvisited nodes\n",
    "    # Step 1\n",
    "    for v in G:\n",
    "        dist[v] = float('inf')\n",
    "    dist[s] = 0\n",
    "    \n",
    "    while len(Q):\n",
    "        # Step 2, step 5\n",
    "        # node with the smallest assigned distance will be choosed\n",
    "        # here, I use a quite straightforward way which runs in linear time\n",
    "        # in the first iteration, the source node will always be selected\n",
    "        u = s; dist_u = float('inf')\n",
    "        for v in Q:\n",
    "            if dist[v] < dist_u:\n",
    "                u = v; dist_u = dist[v]\n",
    "        # Step 5, stop condition\n",
    "        if dist_u == float('inf'):\n",
    "            break\n",
    "        \n",
    "        # Step 3\n",
    "        for v in G[u]:\n",
    "            alt = dist[u] + G[u][v]['weight']\n",
    "            if alt < dist[v]:\n",
    "                dist[v] = alt\n",
    "                prev[v] = u\n",
    "        # Step 4\n",
    "        Q.remove(u)\n",
    "    \n",
    "    # Backtrack the shortest path\n",
    "    path = {}\n",
    "    for v in dist:\n",
    "        # Whether the node is reachable from source\n",
    "        if dist[v] == float('inf'):\n",
    "            continue\n",
    "        path[v] = [v]\n",
    "        p = prev.get(v)\n",
    "        while not p is None:\n",
    "            path[v].insert(0, p)\n",
    "            p = prev.get(p)\n",
    "    \n",
    "    return path, dist"
   ]
  },
  {
   "cell_type": "markdown",
   "metadata": {},
   "source": [
    "I think the documents within the code have given a good explanation. Then let's check its correctness. We will use *networkx*'s builtin function *single_source_dijkstra*."
   ]
  },
  {
   "cell_type": "code",
   "execution_count": 4,
   "metadata": {
    "collapsed": true
   },
   "outputs": [],
   "source": [
    "import random\n",
    "import numpy as np\n",
    "import networkx as nx\n",
    "import matplotlib.pyplot as plt"
   ]
  },
  {
   "cell_type": "markdown",
   "metadata": {},
   "source": [
    "We first generate a random geometric graph in a two-dimensional unit cube:"
   ]
  },
  {
   "cell_type": "code",
   "execution_count": 5,
   "metadata": {
    "collapsed": true
   },
   "outputs": [],
   "source": [
    "random.seed(30)"
   ]
  },
  {
   "cell_type": "code",
   "execution_count": 6,
   "metadata": {
    "collapsed": false,
    "scrolled": false
   },
   "outputs": [
    {
     "data": {
      "image/png": "[encoded data removed]",
      "text/plain": [
       "<matplotlib.figure.Figure at 0x84247f0>"
      ]
     },
     "metadata": {},
     "output_type": "display_data"
    }
   ],
   "source": [
    "G = nx.random_geometric_graph(20, 0.42)\n",
    "pos = nx.get_node_attributes(G, 'pos')\n",
    "nx.draw(G, pos, node_color='w', node_size=100, alpha=0.5)\n",
    "plt.show()"
   ]
  },
  {
   "cell_type": "markdown",
   "metadata": {},
   "source": [
    "Change the basic Graph object to a weighted one:"
   ]
  },
  {
   "cell_type": "code",
   "execution_count": 7,
   "metadata": {
    "collapsed": true
   },
   "outputs": [],
   "source": [
    "def euclidean_distance(p1, p2):\n",
    "    return np.sqrt((p1[0]-p2[0])**2+(p1[1]-p2[1])**2)\n",
    "\n",
    "edges = [e+(euclidean_distance(pos[e[0]],pos[e[1]]),) for e in G.edges_iter()]\n",
    "G.add_weighted_edges_from(edges)"
   ]
  },
  {
   "cell_type": "markdown",
   "metadata": {},
   "source": [
    "Set source node to 13:"
   ]
  },
  {
   "cell_type": "code",
   "execution_count": 8,
   "metadata": {
    "collapsed": false
   },
   "outputs": [
    {
     "name": "stdout",
     "output_type": "stream",
     "text": [
      "0.745842613814\n",
      "[13, 3, 15, 18]\n"
     ]
    }
   ],
   "source": [
    "dist, path = nx.single_source_dijkstra(G, 13)\n",
    "print dist[18]\n",
    "print path[18]"
   ]
  },
  {
   "cell_type": "markdown",
   "metadata": {},
   "source": [
    "*networkx*'s builtin function *single_source_dijkstra* gives the shortest path 13 🡒 3 🡒 15 🡒 18, and path length 0.745842613814, respectively."
   ]
  },
  {
   "cell_type": "code",
   "execution_count": 9,
   "metadata": {
    "collapsed": false
   },
   "outputs": [
    {
     "name": "stdout",
     "output_type": "stream",
     "text": [
      "0.745842613814\n",
      "[13, 3, 15, 18]\n"
     ]
    }
   ],
   "source": [
    "path, dist = my_Dijkstra(G, 13)\n",
    "print dist[18]\n",
    "print path[18]"
   ]
  },
  {
   "cell_type": "markdown",
   "metadata": {},
   "source": [
    "And my implementation returns the same result."
   ]
  },
  {
   "cell_type": "markdown",
   "metadata": {},
   "source": [
    "## Using Min-priority Queue"
   ]
  },
  {
   "cell_type": "markdown",
   "metadata": {
    "collapsed": true
   },
   "source": [
    "In our straightforward implementation above, choosing the node with the smallest distance of step 5 needs linear time during each iteration, and in total, it runs in time O($|V|^2$)(where |V| is the number of nodes). To improve its performance, I will store the unvisited nodes in a [min-priority queue](https://en.wikipedia.org/wiki/Min-priority_queue) implemented with a binary heap, and the new implementation is expected to run in time O((|E|+|V|)log|V|)(|E| is the number of edges)."
   ]
  },
  {
   "cell_type": "markdown",
   "metadata": {},
   "source": [
    "Here's my Python implementation for min-priority queue(see [heapq](https://docs.python.org/2/library/heapq.html)):"
   ]
  },
  {
   "cell_type": "code",
   "execution_count": 13,
   "metadata": {
    "collapsed": true
   },
   "outputs": [],
   "source": [
    "import heapq, itertools\n",
    "from collections import deque"
   ]
  },
  {
   "cell_type": "code",
   "execution_count": 11,
   "metadata": {
    "collapsed": true
   },
   "outputs": [],
   "source": [
    "class PriorityQueue():\n",
    "    \n",
    "    REMOVED = '<removed-task>'\n",
    "    \n",
    "    def __init__(self):\n",
    "        self.hq = []\n",
    "        self.entry_finder = {}\n",
    "        self.counter = itertools.count()\n",
    "    \n",
    "    def add_with_priority(self, task, priority):\n",
    "        'Add a new task or update the priority of an existing task'\n",
    "        if task in self.entry_finder:\n",
    "            self.remove_task(task)\n",
    "        count = next(self.counter)\n",
    "        entry = [priority, count, task]\n",
    "        self.entry_finder[task] = entry\n",
    "        heapq.heappush(self.hq, entry)\n",
    "    \n",
    "    def remove_task(self, task):\n",
    "        'Mark an existing task as REMOVED.  Raise KeyError if not found.'\n",
    "        entry = self.entry_finder.pop(task)\n",
    "        entry[-1] = self.REMOVED\n",
    "    \n",
    "    def extract_min(self):\n",
    "        'Remove and return the lowest priority task. Raise KeyError if empty.'\n",
    "        while self.hq:\n",
    "            priority, count, task = heapq.heappop(self.hq)\n",
    "            if task is not self.REMOVED:\n",
    "                del self.entry_finder[task]\n",
    "                return task, priority\n",
    "        raise KeyError('pop from an empty priority queue')"
   ]
  },
  {
   "cell_type": "markdown",
   "metadata": {},
   "source": [
    "Once you know the concept of priority queue, it's negligible to modified *my_Dijkstra* to the advanced one:"
   ]
  },
  {
   "cell_type": "code",
   "execution_count": 15,
   "metadata": {
    "collapsed": true
   },
   "outputs": [],
   "source": [
    "def my_Dijkstra_with_heap(G, s):\n",
    "    \"\"\"\n",
    "    A more efficient implementation for Dijkstra's algorithm using\n",
    "    min-priority queue.\n",
    "    \n",
    "    Parameters\n",
    "    ----------\n",
    "    G : NetworkX Graph\n",
    "    \n",
    "    s : source node label\n",
    "    \n",
    "    Returns\n",
    "    -------\n",
    "    path: dict\n",
    "        Paths from the source.\n",
    "    dist: dict\n",
    "        Distances from source node to any other nodes in the graph.\n",
    "    \"\"\"\n",
    "    # Keys are node labels, values are distances from the source to the corresponding\n",
    "    # nodes, which will be updated during the algorithm.\n",
    "    dist = {}\n",
    "    # Keys are node labels, values are previous node in the shortest path from source\n",
    "    prev = {}\n",
    "    \n",
    "    Q = PriorityQueue() # Unvisited nodes\n",
    "    # Step 1\n",
    "    Q.add_with_priority(s, 0)\n",
    "    for v in G:\n",
    "        dist[v] = float('inf')\n",
    "    dist[s] = 0\n",
    "    \n",
    "    while len(Q.hq):\n",
    "        try:\n",
    "            # Step 2, step 5\n",
    "            # node with the smallest assigned distance will be choosed\n",
    "            # thanks to min-priority queue, the operation runs in O(1) in this implementation\n",
    "            # since extract_min remove the lowest priority task from the queue,\n",
    "            # this operation also implements step 4\n",
    "            u, dist_u = Q.extract_min()\n",
    "        except KeyError:\n",
    "            # Step 5, stop condition\n",
    "            break\n",
    "        \n",
    "        # Step 3\n",
    "        for v in G[u]:\n",
    "            alt = dist[u] + G[u][v]['weight']\n",
    "            if alt < dist[v]:\n",
    "                dist[v] = alt\n",
    "                prev[v] = u\n",
    "                Q.add_with_priority(v, alt)\n",
    "    \n",
    "    # Backtrack the shortest path\n",
    "    path = {}\n",
    "    for v in dist:\n",
    "        # Whether the node is reachable from source\n",
    "        if dist[v] == float('inf'):\n",
    "            continue\n",
    "        path[v] = deque([v])\n",
    "        p = prev.get(v)\n",
    "        while not p is None:\n",
    "            path[v].appendleft(p)\n",
    "            p = prev.get(p)\n",
    "    \n",
    "    return path, dist"
   ]
  },
  {
   "cell_type": "code",
   "execution_count": 16,
   "metadata": {
    "collapsed": false
   },
   "outputs": [
    {
     "name": "stdout",
     "output_type": "stream",
     "text": [
      "0.745842613814\n",
      "deque([13, 3, 15, 18])\n"
     ]
    }
   ],
   "source": [
    "path, dist = my_Dijkstra_with_heap(G, 13)\n",
    "print dist[18]\n",
    "print path[18]"
   ]
  },
  {
   "cell_type": "markdown",
   "metadata": {},
   "source": [
    "The correctness is not affected."
   ]
  },
  {
   "cell_type": "code",
   "execution_count": 17,
   "metadata": {
    "collapsed": true
   },
   "outputs": [],
   "source": [
    "def only_run_it(G, func):\n",
    "    for v in G:\n",
    "        func(G, v)"
   ]
  },
  {
   "cell_type": "code",
   "execution_count": 20,
   "metadata": {
    "collapsed": false
   },
   "outputs": [
    {
     "name": "stdout",
     "output_type": "stream",
     "text": [
      "single_source_dijkstra\n",
      "100 loops, best of 3: 2.99 ms per loop\n",
      "my_Dijkstra\n",
      "100 loops, best of 3: 3.2 ms per loop\n",
      "my_Dijkstra_with_heap\n",
      "100 loops, best of 3: 3.51 ms per loop\n"
     ]
    }
   ],
   "source": [
    "for func in [nx.single_source_dijkstra, my_Dijkstra, my_Dijkstra_with_heap]:\n",
    "    print func.__name__\n",
    "    %timeit only_run_it(G, func)"
   ]
  },
  {
   "cell_type": "markdown",
   "metadata": {},
   "source": [
    "But the performance has been improved!"
   ]
  }
 ],
 "metadata": {
  "anaconda-cloud": {},
  "kernelspec": {
   "display_name": "Python [conda root]",
   "language": "python",
   "name": "conda-root-py"
  },
  "language_info": {
   "codemirror_mode": {
    "name": "ipython",
    "version": 2
   },
   "file_extension": ".py",
   "mimetype": "text/x-python",
   "name": "python",
   "nbconvert_exporter": "python",
   "pygments_lexer": "ipython2",
   "version": "2.7.12"
  }
 },
 "nbformat": 4,
 "nbformat_minor": 1
}
