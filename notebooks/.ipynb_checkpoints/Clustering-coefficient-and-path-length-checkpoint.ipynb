{
 "cells": [
  {
   "cell_type": "markdown",
   "metadata": {},
   "source": [
    "# Clustering Coefficient and Path Length"
   ]
  },
  {
   "cell_type": "markdown",
   "metadata": {},
   "source": [
    "In [Small World Graph](http://nbviewer.jupyter.org/github/XiaoTaoWang/Think-Complexity-Notes/blob/master/notebooks/Small-World-Graph.ipynb), we mentioned that Watts and Strogatz had proposed two quantities, clustering coefficient and path length, to measure corresponding two properties of small-world graphs, however, we skipped implementaion details by using *networkx*'s builtin functions directly. In this note, we'll define our own functions. "
   ]
  },
  {
   "cell_type": "code",
   "execution_count": 1,
   "metadata": {
    "collapsed": true
   },
   "outputs": [],
   "source": [
    "%load_ext watermark"
   ]
  },
  {
   "cell_type": "code",
   "execution_count": 2,
   "metadata": {
    "collapsed": false
   },
   "outputs": [
    {
     "name": "stdout",
     "output_type": "stream",
     "text": [
      "CPython 2.7.12\n",
      "IPython 5.1.0\n",
      "\n",
      "numpy 1.11.1\n",
      "networkx 1.11\n",
      "matplotlib 1.5.3\n"
     ]
    }
   ],
   "source": [
    "%watermark -v -p numpy,networkx,matplotlib"
   ]
  },
  {
   "cell_type": "markdown",
   "metadata": {},
   "source": [
    "## Clustering Coefficient"
   ]
  },
  {
   "cell_type": "markdown",
   "metadata": {},
   "source": [
    "To compute the average clustering coefficient of a graph, we need to know clustering coefficient of each node at first:"
   ]
  },
  {
   "cell_type": "code",
   "execution_count": 3,
   "metadata": {
    "collapsed": true
   },
   "outputs": [],
   "source": [
    "def node_clustering(G, v):\n",
    "    \n",
    "    neighbors = G.neighbors(v)\n",
    "    k = len(neighbors)\n",
    "    if k < 2:\n",
    "        return 0\n",
    "    \n",
    "    total = (k - 1) * k / 2\n",
    "    count = 0\n",
    "    for i, u in enumerate(neighbors):\n",
    "        for j, w in enumerate(neighbors):\n",
    "            if i > j:\n",
    "                if G.has_edge(u, w):\n",
    "                    count += 1\n",
    "    return count / float(total)"
   ]
  },
  {
   "cell_type": "code",
   "execution_count": 4,
   "metadata": {
    "collapsed": false
   },
   "outputs": [
    {
     "data": {
      "text/plain": [
       "1.0"
      ]
     },
     "execution_count": 4,
     "metadata": {},
     "output_type": "execute_result"
    }
   ],
   "source": [
    "import networkx as nx\n",
    "\n",
    "G = nx.complete_graph(5)\n",
    "node_clustering(G, 0)"
   ]
  },
  {
   "cell_type": "markdown",
   "metadata": {},
   "source": [
    "Then it's easy to compute the average:"
   ]
  },
  {
   "cell_type": "code",
   "execution_count": 5,
   "metadata": {
    "collapsed": true
   },
   "outputs": [],
   "source": [
    "import numpy as np\n",
    "\n",
    "def average_clustering(G):\n",
    "    return np.mean([node_clustering(G,v) for v in G])"
   ]
  },
  {
   "cell_type": "code",
   "execution_count": 6,
   "metadata": {
    "collapsed": false
   },
   "outputs": [
    {
     "data": {
      "text/plain": [
       "1.0"
      ]
     },
     "execution_count": 6,
     "metadata": {},
     "output_type": "execute_result"
    }
   ],
   "source": [
    "average_clustering(G)"
   ]
  },
  {
   "cell_type": "code",
   "execution_count": 7,
   "metadata": {
    "collapsed": false
   },
   "outputs": [
    {
     "name": "stdout",
     "output_type": "stream",
     "text": [
      "Clustering Coefficient by networkx: 0.633\n",
      "Clustering Coefficient by ourselves: 0.633\n"
     ]
    }
   ],
   "source": [
    "G = nx.watts_strogatz_graph(1000, 10, 0.02)\n",
    "print 'Clustering Coefficient by networkx: %.3f' % nx.average_clustering(G)\n",
    "print 'Clustering Coefficient by ourselves: %.3f' % average_clustering(G)"
   ]
  },
  {
   "cell_type": "markdown",
   "metadata": {
    "collapsed": true
   },
   "source": [
    "## Path Length"
   ]
  },
  {
   "cell_type": "markdown",
   "metadata": {},
   "source": [
    "The second characteristic, path length, is defined as the average length of the shortest path between each pair of nodes. In this part, I'll implement a well-known shortest path algorithm - Dijkstra's algorithm."
   ]
  },
  {
   "cell_type": "markdown",
   "metadata": {},
   "source": [
    "### Dijkstra's algorithm"
   ]
  },
  {
   "cell_type": "markdown",
   "metadata": {
    "collapsed": true
   },
   "source": [
    "Dijkstra's algorithm, which was invented by a Dutch computer scientist Edsger W. Dijkstra, can efficiently solve the \"single source shortest path problem\", that is, it's able to find the minimum distance from a given \"source\" node to every other node in the graph. "
   ]
  },
  {
   "cell_type": "code",
   "execution_count": null,
   "metadata": {
    "collapsed": true
   },
   "outputs": [],
   "source": []
  }
 ],
 "metadata": {
  "anaconda-cloud": {},
  "kernelspec": {
   "display_name": "Python [conda root]",
   "language": "python",
   "name": "conda-root-py"
  },
  "language_info": {
   "codemirror_mode": {
    "name": "ipython",
    "version": 2
   },
   "file_extension": ".py",
   "mimetype": "text/x-python",
   "name": "python",
   "nbconvert_exporter": "python",
   "pygments_lexer": "ipython2",
   "version": "2.7.12"
  }
 },
 "nbformat": 4,
 "nbformat_minor": 1
}
