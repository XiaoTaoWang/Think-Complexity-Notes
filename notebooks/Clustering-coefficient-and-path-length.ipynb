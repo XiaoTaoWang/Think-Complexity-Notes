{
 "cells": [
  {
   "cell_type": "markdown",
   "metadata": {},
   "source": [
    "# Clustering Coefficient and Path Length"
   ]
  },
  {
   "cell_type": "markdown",
   "metadata": {},
   "source": [
    "In [Small World Graph](http://nbviewer.jupyter.org/github/XiaoTaoWang/Think-Complexity-Notes/blob/master/notebooks/Small-World-Graph.ipynb), we mentioned that Watts and Strogatz had proposed two quantities, clustering coefficient and path length, to measure corresponding two properties of small-world graphs, however, we skipped implementaion details by using *networkx*'s builtin functions directly. In this note, we'll define our own functions. "
   ]
  },
  {
   "cell_type": "markdown",
   "metadata": {},
   "source": [
    "## Sections"
   ]
  },
  {
   "cell_type": "markdown",
   "metadata": {},
   "source": [
    "- [Clustering Coefficient](#Clustering-Coefficient)\n",
    "- [Path Length](#Path-Length)\n",
    "    - [BFS and Dijkstra's algorithm](#BFS-and-Dijkstra's-algorithm)\n",
    "    - [Investigate path length using our own functions](#Investigate-path-length-using-our-own-functions)"
   ]
  },
  {
   "cell_type": "code",
   "execution_count": 1,
   "metadata": {
    "collapsed": true
   },
   "outputs": [],
   "source": [
    "%load_ext watermark"
   ]
  },
  {
   "cell_type": "code",
   "execution_count": 2,
   "metadata": {
    "collapsed": false
   },
   "outputs": [
    {
     "name": "stdout",
     "output_type": "stream",
     "text": [
      "CPython 2.7.12\n",
      "IPython 5.1.0\n",
      "\n",
      "numpy 1.11.1\n",
      "networkx 1.11\n",
      "matplotlib 1.5.3\n"
     ]
    }
   ],
   "source": [
    "%watermark -v -p numpy,networkx,matplotlib"
   ]
  },
  {
   "cell_type": "markdown",
   "metadata": {},
   "source": [
    "## Clustering Coefficient"
   ]
  },
  {
   "cell_type": "markdown",
   "metadata": {},
   "source": [
    "To compute the average clustering coefficient of a graph, we need to know clustering coefficient of each node at first:"
   ]
  },
  {
   "cell_type": "code",
   "execution_count": 3,
   "metadata": {
    "collapsed": true
   },
   "outputs": [],
   "source": [
    "def node_clustering(G, v):\n",
    "    \n",
    "    neighbors = G.neighbors(v)\n",
    "    k = len(neighbors)\n",
    "    if k < 2:\n",
    "        return 0\n",
    "    \n",
    "    total = (k - 1) * k / 2\n",
    "    count = 0\n",
    "    for i, u in enumerate(neighbors):\n",
    "        for j, w in enumerate(neighbors):\n",
    "            if i > j:\n",
    "                if G.has_edge(u, w):\n",
    "                    count += 1\n",
    "    return count / float(total)"
   ]
  },
  {
   "cell_type": "code",
   "execution_count": 4,
   "metadata": {
    "collapsed": false
   },
   "outputs": [
    {
     "data": {
      "text/plain": [
       "1.0"
      ]
     },
     "execution_count": 4,
     "metadata": {},
     "output_type": "execute_result"
    }
   ],
   "source": [
    "import networkx as nx\n",
    "\n",
    "G = nx.complete_graph(5)\n",
    "node_clustering(G, 0)"
   ]
  },
  {
   "cell_type": "markdown",
   "metadata": {},
   "source": [
    "Then it's easy to compute the average:"
   ]
  },
  {
   "cell_type": "code",
   "execution_count": 5,
   "metadata": {
    "collapsed": true
   },
   "outputs": [],
   "source": [
    "import numpy as np\n",
    "\n",
    "def average_clustering(G):\n",
    "    return np.mean([node_clustering(G,v) for v in G])"
   ]
  },
  {
   "cell_type": "code",
   "execution_count": 6,
   "metadata": {
    "collapsed": false
   },
   "outputs": [
    {
     "data": {
      "text/plain": [
       "1.0"
      ]
     },
     "execution_count": 6,
     "metadata": {},
     "output_type": "execute_result"
    }
   ],
   "source": [
    "average_clustering(G)"
   ]
  },
  {
   "cell_type": "code",
   "execution_count": 7,
   "metadata": {
    "collapsed": false
   },
   "outputs": [
    {
     "name": "stdout",
     "output_type": "stream",
     "text": [
      "Clustering Coefficient by networkx: 0.626\n",
      "Clustering Coefficient by ourselves: 0.626\n"
     ]
    }
   ],
   "source": [
    "G = nx.watts_strogatz_graph(1000, 10, 0.02)\n",
    "print 'Clustering Coefficient by networkx: %.3f' % nx.average_clustering(G)\n",
    "print 'Clustering Coefficient by ourselves: %.3f' % average_clustering(G)"
   ]
  },
  {
   "cell_type": "markdown",
   "metadata": {
    "collapsed": true
   },
   "source": [
    "## Path Length"
   ]
  },
  {
   "cell_type": "markdown",
   "metadata": {},
   "source": [
    "The second characteristic, path length, is defined as the average length of the shortest path between each pair of nodes. So implementing an efficient shortest path algorithm is an prerequisite. Allen introduced the well-known Dijkstra's algorithm in his book, he started from BFS(Breadth-First Search) and then implemented a simplified version of the algorithm(assumes all edges have the same length). In this part, I'll follow him step by step, and in next note, I'll try to implement the general version to make it work for any non-negative weighted graph."
   ]
  },
  {
   "cell_type": "markdown",
   "metadata": {},
   "source": [
    "### BFS and Dijkstra's algorithm"
   ]
  },
  {
   "cell_type": "markdown",
   "metadata": {
    "collapsed": true
   },
   "source": [
    "In previous [note](http://nbviewer.jupyter.org/github/XiaoTaoWang/Think-Complexity-Notes/blob/master/notebooks/ER-Graph-Connectivity.ipynb#Breadth-first-search), I have implemented the Breadth-First Search algorithm in the context of graph connectivity."
   ]
  },
  {
   "cell_type": "code",
   "execution_count": 8,
   "metadata": {
    "collapsed": true
   },
   "outputs": [],
   "source": [
    "from collections import deque\n",
    "\n",
    "def BFS_search(G, s):\n",
    "    \n",
    "    Q = deque([s])\n",
    "    seen = set([s])\n",
    "    while len(Q):\n",
    "        c = Q.popleft()\n",
    "        for v in G.neighbors(c):\n",
    "            if not v in seen:\n",
    "                seen.add(v)\n",
    "                Q.append(v)\n",
    "    return seen"
   ]
  },
  {
   "cell_type": "markdown",
   "metadata": {},
   "source": [
    "By replacing *seen* with a dictionary *dist*, which maps each node to its distance from the source *s*, we can easily transform *BFS_search* into the most simple version of Dijkstra's algorithm."
   ]
  },
  {
   "cell_type": "code",
   "execution_count": 9,
   "metadata": {
    "collapsed": true
   },
   "outputs": [],
   "source": [
    "def shortest_path_length(G, s):\n",
    "    \n",
    "    Q = deque([s])\n",
    "    dist = {s:0}\n",
    "    while len(Q):\n",
    "        c = Q.popleft()\n",
    "        ndist = dist[c] + 1 # distance of the next level\n",
    "        for v in G.neighbors(c):\n",
    "            if not v in dist:\n",
    "                dist[v] = ndist\n",
    "                Q.append(v)\n",
    "    return dist"
   ]
  },
  {
   "cell_type": "markdown",
   "metadata": {},
   "source": [
    "That's it! Let's test with a random graph:"
   ]
  },
  {
   "cell_type": "code",
   "execution_count": 10,
   "metadata": {
    "collapsed": true
   },
   "outputs": [],
   "source": [
    "import networkx as nx\n",
    "import matplotlib.pyplot as plt"
   ]
  },
  {
   "cell_type": "code",
   "execution_count": 11,
   "metadata": {
    "collapsed": false
   },
   "outputs": [
    {
     "data": {
      "image/png": "[encoded data removed]",
      "text/plain": [
       "<matplotlib.figure.Figure at 0x959f860>"
      ]
     },
     "metadata": {},
     "output_type": "display_data"
    }
   ],
   "source": [
    "G = nx.gnp_random_graph(6, 0.2, seed=1)\n",
    "nx.draw(G, node_color='#FBB4AE', node_size=1000, with_labels=True)\n",
    "plt.show()"
   ]
  },
  {
   "cell_type": "code",
   "execution_count": 12,
   "metadata": {
    "collapsed": false
   },
   "outputs": [
    {
     "name": "stdout",
     "output_type": "stream",
     "text": [
      "{0: 3, 1: 2, 2: 1, 3: 0, 5: 1}\n"
     ]
    }
   ],
   "source": [
    "print shortest_path_length(G, 3)"
   ]
  },
  {
   "cell_type": "markdown",
   "metadata": {},
   "source": [
    "If we also record the parent node during exploration, we can extract the shortest path by backtracking the destination node up to the source node."
   ]
  },
  {
   "cell_type": "code",
   "execution_count": 13,
   "metadata": {
    "collapsed": true
   },
   "outputs": [],
   "source": [
    "def shortest_path(G, s):\n",
    "    \n",
    "    Q = deque([s])\n",
    "    dist = {s:0}\n",
    "    parent = {s:None} # the parent of the source node is undefined\n",
    "    while len(Q):\n",
    "        c = Q.popleft()\n",
    "        ndist = dist[c] + 1 # distance of the next level\n",
    "        for v in G.neighbors(c):\n",
    "            if not v in dist:\n",
    "                dist[v] = ndist\n",
    "                parent[v] = c\n",
    "                Q.append(v)\n",
    "    # backtrack the shortest path\n",
    "    path = {}\n",
    "    for v in dist:\n",
    "        path[v] = deque([v])\n",
    "        p = parent[v]\n",
    "        while not p is None:\n",
    "            path[v].appendleft(p)\n",
    "            p = parent[p]\n",
    "            \n",
    "    return path, dist"
   ]
  },
  {
   "cell_type": "code",
   "execution_count": 14,
   "metadata": {
    "collapsed": true
   },
   "outputs": [],
   "source": [
    "path, dist = shortest_path(G, 3)"
   ]
  },
  {
   "cell_type": "code",
   "execution_count": 15,
   "metadata": {
    "collapsed": false
   },
   "outputs": [
    {
     "name": "stdout",
     "output_type": "stream",
     "text": [
      "deque([3, 5, 1, 0])\n"
     ]
    }
   ],
   "source": [
    "print path[0]"
   ]
  },
  {
   "cell_type": "markdown",
   "metadata": {},
   "source": [
    "The shortest path from 3 to 0 in *G* is certainly 3 🡒 5 🡒 1 🡒 0."
   ]
  },
  {
   "cell_type": "markdown",
   "metadata": {},
   "source": [
    "As we have mentioned in [ER-Graph-Connectivity](http://nbviewer.jupyter.org/github/XiaoTaoWang/Think-Complexity-Notes/blob/master/notebooks/ER-Graph-Connectivity.ipynb#Benchmarks), *shortest_path_length* and *shortest_path* should runs in O(n+m), where n and m represent the number of nodes and the number of edges, respectively."
   ]
  },
  {
   "cell_type": "markdown",
   "metadata": {
    "collapsed": true
   },
   "source": [
    "### Investigate path length using our own functions"
   ]
  },
  {
   "cell_type": "markdown",
   "metadata": {},
   "source": [
    "Dijkstra's algorithm solves the so called \"single source shortest path\" problem, however, to compute the \"path length\" of a graph, we actually need to solve the \"all pairs shortest path\" problem. Here, I'll simply embed *shortest_path_length* into *all_pairs_length* to iteratively run Dijkstra's algorithm for each node:"
   ]
  },
  {
   "cell_type": "code",
   "execution_count": 16,
   "metadata": {
    "collapsed": false
   },
   "outputs": [],
   "source": [
    "def all_pairs_length(G):\n",
    "    dist = {}\n",
    "    for v in G:\n",
    "        dist[v] = shortest_path_length(G, v)\n",
    "    return dist"
   ]
  },
  {
   "cell_type": "code",
   "execution_count": 17,
   "metadata": {
    "collapsed": false
   },
   "outputs": [],
   "source": [
    "def possible_pair(nodes):\n",
    "    for i, v in enumerate(nodes):\n",
    "        for j, w in enumerate(nodes):\n",
    "            if i > j:\n",
    "                yield v, w\n",
    "\n",
    "\n",
    "def average_path_length(G, func):\n",
    "    pool = func(G)\n",
    "    lengths = [pool[v][w] for v,w in possible_pair(G)]\n",
    "    return np.mean(lengths)"
   ]
  },
  {
   "cell_type": "code",
   "execution_count": 18,
   "metadata": {
    "collapsed": false
   },
   "outputs": [
    {
     "name": "stdout",
     "output_type": "stream",
     "text": [
      "Path Length by networkx: 6.725\n",
      "Path Length by ourselves: 6.725\n"
     ]
    }
   ],
   "source": [
    "G = nx.watts_strogatz_graph(1000, 10, 0.02)\n",
    "print 'Path Length by networkx: %.3f' % average_path_length(G, nx.shortest_path_length)\n",
    "print 'Path Length by ourselves: %.3f' % average_path_length(G, all_pairs_length)"
   ]
  }
 ],
 "metadata": {
  "anaconda-cloud": {},
  "kernelspec": {
   "display_name": "Python [conda root]",
   "language": "python",
   "name": "conda-root-py"
  },
  "language_info": {
   "codemirror_mode": {
    "name": "ipython",
    "version": 2
   },
   "file_extension": ".py",
   "mimetype": "text/x-python",
   "name": "python",
   "nbconvert_exporter": "python",
   "pygments_lexer": "ipython2",
   "version": "2.7.12"
  }
 },
 "nbformat": 4,
 "nbformat_minor": 1
}
